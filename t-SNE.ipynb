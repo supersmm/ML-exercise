{
 "cells": [
  {
   "cell_type": "markdown",
   "metadata": {},
   "source": [
    "## 1. Construct a matrix of negative squared Eucliean distances"
   ]
  },
  {
   "cell_type": "code",
   "execution_count": null,
   "metadata": {},
   "outputs": [],
   "source": [
    "def neg_squared_euc_dists(X):    \n",
    "    \"\"\"Compute matrix containing negative squared euclidean\n",
    "    distance for all pairs of points in input matrix X\n",
    "    # Arguments:\n",
    "        X: matrix of size NxD\n",
    "    # Returns:\n",
    "        NxN matrix D, with entry D_ij = negative squared\n",
    "        euclidean distance between rows X_i and X_j\n",
    "    \"\"\"\n",
    "    # Math? See https://stackoverflow.com/questions/37009647\n",
    "    \n",
    "    sum_X = np.sum(np.square(X), 1) # axis=0 vertically by the rows/index, and axis=1 horizontally by the columns.\n",
    "    D = np.add(np.add(-2 * np.dot(X, X.T), sum_X).T, sum_X)\n",
    "    return -D\n",
    "'''Compute pairwise distance in a batch\n",
    "D[i, j] = (a[i]-a[j])(a[i]-a[j])' = r[i] - 2a[i]a[j]' + r[j] (r[i] is squared norm of i-th row of the original matrix.)\n",
    "In a system that supports standard broadcasting rules you can treat r as a column vector and write D as D = r - 2 A A' + r'\n",
    "\n",
    "In TensorFlow you could write this as:\n",
    "A = tf.constant([[1, 1], [2, 2], [3, 3]])\n",
    "r = tf.reduce_sum(A*A, 1)\n",
    "# turn r into column vector\n",
    "r = tf.reshape(r, [-1, 1])\n",
    "D = r - 2*tf.matmul(A, tf.transpose(A)) + tf.transpose(r)\n",
    "sess = tf.Session()\n",
    "sess.run(D)\n",
    "\n",
    "result:\n",
    "array([[0, 2, 8],\n",
    "       [2, 0, 2],\n",
    "       [8, 2, 0]], dtype=int32)\n",
    "'''"
   ]
  },
  {
   "cell_type": "code",
   "execution_count": null,
   "metadata": {},
   "outputs": [],
   "source": [
    "'''-1 in numpy reshape:\n",
    "numpy allow us to give one of new shape parameter as -1 (eg: (2,-1) or (-1,3) but not (-1, -1)).\n",
    "It simply means that it is an unknown dimension and we want numpy to figure it out. \n",
    "https://stackoverflow.com/questions/18691084/what-does-1-mean-in-numpy-reshape '''\n",
    "\n",
    "def softmax (X, diag_zero=True): # p_i|i=0\n",
    "    \"\"\"Take softmax of each row of matrix X.\"\"\"\n",
    "    # Subtract max for numerical stability\n",
    "    e_x = np.exp(X - np.max(X, axis=1).reshape([-1, 1]))\n",
    "    # We usually want diagonal probailities to be 0\n",
    "    if diag_zero:\n",
    "        np.fill_diagonal(e_x, 0.)\n",
    "    # Add a tiny constant for stability of log we take later\n",
    "    e_x = e_x + 1e-8\n",
    "    return e_x / e_x.sum(axis=1).reshape([-1, 1])\n",
    "\n",
    "'''z.reshape(-1,1)\n",
    "array([[ 1],\n",
    "   [ 2],\n",
    "   [ 3],\n",
    "   [ 4],\n",
    "   [ 5],\n",
    "   [ 6],\n",
    "   [ 7],\n",
    "   [ 8],\n",
    "   [ 9],\n",
    "   [10],\n",
    "   [11],\n",
    "   [12]])'''"
   ]
  }
 ],
 "metadata": {
  "kernelspec": {
   "display_name": "Python 3",
   "language": "python",
   "name": "python3"
  },
  "language_info": {
   "codemirror_mode": {
    "name": "ipython",
    "version": 3
   },
   "file_extension": ".py",
   "mimetype": "text/x-python",
   "name": "python",
   "nbconvert_exporter": "python",
   "pygments_lexer": "ipython3",
   "version": "3.6.3"
  }
 },
 "nbformat": 4,
 "nbformat_minor": 2
}
